{
  "cells": [
    {
      "cell_type": "markdown",
      "metadata": {
        "id": "view-in-github",
        "colab_type": "text"
      },
      "source": [
        "<a href=\"https://colab.research.google.com/github/meerilahi/algoTrading/blob/main/new_notebook.ipynb\" target=\"_parent\"><img src=\"https://colab.research.google.com/assets/colab-badge.svg\" alt=\"Open In Colab\"/></a>"
      ]
    },
    {
      "cell_type": "markdown",
      "source": [
        "**Installing and Importing Libraries**"
      ],
      "metadata": {
        "id": "T-q8d6tl5tVZ"
      }
    },
    {
      "cell_type": "code",
      "source": [
        "!pip install alpha_vantage"
      ],
      "metadata": {
        "id": "c4XOCOk4aUp9",
        "outputId": "51e6219a-3be2-488a-ea8e-cc6b2670cedf",
        "colab": {
          "base_uri": "https://localhost:8080/"
        },
        "collapsed": true
      },
      "execution_count": 2,
      "outputs": [
        {
          "output_type": "stream",
          "name": "stdout",
          "text": [
            "Collecting alpha_vantage\n",
            "  Downloading alpha_vantage-3.0.0-py3-none-any.whl.metadata (12 kB)\n",
            "Requirement already satisfied: aiohttp in /usr/local/lib/python3.11/dist-packages (from alpha_vantage) (3.11.13)\n",
            "Requirement already satisfied: requests in /usr/local/lib/python3.11/dist-packages (from alpha_vantage) (2.32.3)\n",
            "Requirement already satisfied: aiohappyeyeballs>=2.3.0 in /usr/local/lib/python3.11/dist-packages (from aiohttp->alpha_vantage) (2.4.6)\n",
            "Requirement already satisfied: aiosignal>=1.1.2 in /usr/local/lib/python3.11/dist-packages (from aiohttp->alpha_vantage) (1.3.2)\n",
            "Requirement already satisfied: attrs>=17.3.0 in /usr/local/lib/python3.11/dist-packages (from aiohttp->alpha_vantage) (25.1.0)\n",
            "Requirement already satisfied: frozenlist>=1.1.1 in /usr/local/lib/python3.11/dist-packages (from aiohttp->alpha_vantage) (1.5.0)\n",
            "Requirement already satisfied: multidict<7.0,>=4.5 in /usr/local/lib/python3.11/dist-packages (from aiohttp->alpha_vantage) (6.1.0)\n",
            "Requirement already satisfied: propcache>=0.2.0 in /usr/local/lib/python3.11/dist-packages (from aiohttp->alpha_vantage) (0.3.0)\n",
            "Requirement already satisfied: yarl<2.0,>=1.17.0 in /usr/local/lib/python3.11/dist-packages (from aiohttp->alpha_vantage) (1.18.3)\n",
            "Requirement already satisfied: charset-normalizer<4,>=2 in /usr/local/lib/python3.11/dist-packages (from requests->alpha_vantage) (3.4.1)\n",
            "Requirement already satisfied: idna<4,>=2.5 in /usr/local/lib/python3.11/dist-packages (from requests->alpha_vantage) (3.10)\n",
            "Requirement already satisfied: urllib3<3,>=1.21.1 in /usr/local/lib/python3.11/dist-packages (from requests->alpha_vantage) (2.3.0)\n",
            "Requirement already satisfied: certifi>=2017.4.17 in /usr/local/lib/python3.11/dist-packages (from requests->alpha_vantage) (2025.1.31)\n",
            "Downloading alpha_vantage-3.0.0-py3-none-any.whl (35 kB)\n",
            "Installing collected packages: alpha_vantage\n",
            "Successfully installed alpha_vantage-3.0.0\n"
          ]
        }
      ]
    },
    {
      "cell_type": "code",
      "source": [
        "from alpha_vantage.timeseries import TimeSeries\n",
        "import pandas as pd\n",
        "import matplotlib.pyplot as plt\n",
        "import seaborn as sns\n",
        "from sklearn.preprocessing import PolynomialFeatures\n",
        "from sklearn.model_selection import train_test_split\n",
        "from sklearn.linear_model import LinearRegression, LogisticRegression\n",
        "from sklearn.metrics import mean_squared_error, r2_score, classification_report, confusion_matrix\n",
        "%matplotlib inline"
      ],
      "metadata": {
        "id": "nhrC-ZM8aGRl"
      },
      "execution_count": 161,
      "outputs": []
    },
    {
      "cell_type": "markdown",
      "source": [
        "**Fetching Data**"
      ],
      "metadata": {
        "id": "6jwkiyyX50mo"
      }
    },
    {
      "cell_type": "code",
      "source": [
        "API_KEY = \"XM0ZE0M05HEDFVTP\"\n",
        "ts = TimeSeries(key = API_KEY, output_format = 'pandas')\n",
        "data = ts.get_daily(symbol = 'MSFT', outputsize = 'full')[0]"
      ],
      "metadata": {
        "id": "DbQ3poOLa6m9"
      },
      "execution_count": 137,
      "outputs": []
    },
    {
      "cell_type": "markdown",
      "source": [
        "**Making Time Lags**"
      ],
      "metadata": {
        "id": "2c5_wy9s56NM"
      }
    },
    {
      "cell_type": "code",
      "source": [
        "df = data.iloc[:,3:4]\n",
        "df.columns = [\"Close\"]\n",
        "df.index.rename(\"Date\", inplace = True)\n",
        "df = df[::-1]\n",
        "for i in range(1,6):\n",
        "  df[f'L{i}'] = df['Close'].shift(i)\n",
        "df['Close_diff'] = df['Close'] - df['L1']\n",
        "df['Signal'] = df['Close_diff'].apply(lambda x: 1 if x > 0 else 0)\n",
        "df.dropna(inplace = True)\n",
        "df"
      ],
      "metadata": {
        "id": "Kvk15d9LfY-X",
        "outputId": "d71a6ea6-cc63-40d1-b52b-af66c83a6c77",
        "colab": {
          "base_uri": "https://localhost:8080/",
          "height": 455
        }
      },
      "execution_count": 157,
      "outputs": [
        {
          "output_type": "execute_result",
          "data": {
            "text/plain": [
              "             Close      L1      L2      L3      L4      L5  Close_diff  Signal\n",
              "Date                                                                          \n",
              "1999-11-08   89.94   91.56   91.75   92.00   92.56   92.37       -1.62       0\n",
              "1999-11-09   88.87   89.94   91.56   91.75   92.00   92.56       -1.07       0\n",
              "1999-11-10   87.12   88.87   89.94   91.56   91.75   92.00       -1.75       0\n",
              "1999-11-11   89.62   87.12   88.87   89.94   91.56   91.75        2.50       1\n",
              "1999-11-12   89.19   89.62   87.12   88.87   89.94   91.56       -0.43       0\n",
              "...            ...     ...     ...     ...     ...     ...         ...     ...\n",
              "2025-02-26  399.73  397.90  404.00  408.21  416.13  414.77        1.83       1\n",
              "2025-02-27  392.53  399.73  397.90  404.00  408.21  416.13       -7.20       0\n",
              "2025-02-28  396.99  392.53  399.73  397.90  404.00  408.21        4.46       1\n",
              "2025-03-03  388.49  396.99  392.53  399.73  397.90  404.00       -8.50       0\n",
              "2025-03-04  388.61  388.49  396.99  392.53  399.73  397.90        0.12       1\n",
              "\n",
              "[6368 rows x 8 columns]"
            ],
            "text/html": [
              "\n",
              "  <div id=\"df-8aed43df-6d96-4a91-baf3-6aa39efff9aa\" class=\"colab-df-container\">\n",
              "    <div>\n",
              "<style scoped>\n",
              "    .dataframe tbody tr th:only-of-type {\n",
              "        vertical-align: middle;\n",
              "    }\n",
              "\n",
              "    .dataframe tbody tr th {\n",
              "        vertical-align: top;\n",
              "    }\n",
              "\n",
              "    .dataframe thead th {\n",
              "        text-align: right;\n",
              "    }\n",
              "</style>\n",
              "<table border=\"1\" class=\"dataframe\">\n",
              "  <thead>\n",
              "    <tr style=\"text-align: right;\">\n",
              "      <th></th>\n",
              "      <th>Close</th>\n",
              "      <th>L1</th>\n",
              "      <th>L2</th>\n",
              "      <th>L3</th>\n",
              "      <th>L4</th>\n",
              "      <th>L5</th>\n",
              "      <th>Close_diff</th>\n",
              "      <th>Signal</th>\n",
              "    </tr>\n",
              "    <tr>\n",
              "      <th>Date</th>\n",
              "      <th></th>\n",
              "      <th></th>\n",
              "      <th></th>\n",
              "      <th></th>\n",
              "      <th></th>\n",
              "      <th></th>\n",
              "      <th></th>\n",
              "      <th></th>\n",
              "    </tr>\n",
              "  </thead>\n",
              "  <tbody>\n",
              "    <tr>\n",
              "      <th>1999-11-08</th>\n",
              "      <td>89.94</td>\n",
              "      <td>91.56</td>\n",
              "      <td>91.75</td>\n",
              "      <td>92.00</td>\n",
              "      <td>92.56</td>\n",
              "      <td>92.37</td>\n",
              "      <td>-1.62</td>\n",
              "      <td>0</td>\n",
              "    </tr>\n",
              "    <tr>\n",
              "      <th>1999-11-09</th>\n",
              "      <td>88.87</td>\n",
              "      <td>89.94</td>\n",
              "      <td>91.56</td>\n",
              "      <td>91.75</td>\n",
              "      <td>92.00</td>\n",
              "      <td>92.56</td>\n",
              "      <td>-1.07</td>\n",
              "      <td>0</td>\n",
              "    </tr>\n",
              "    <tr>\n",
              "      <th>1999-11-10</th>\n",
              "      <td>87.12</td>\n",
              "      <td>88.87</td>\n",
              "      <td>89.94</td>\n",
              "      <td>91.56</td>\n",
              "      <td>91.75</td>\n",
              "      <td>92.00</td>\n",
              "      <td>-1.75</td>\n",
              "      <td>0</td>\n",
              "    </tr>\n",
              "    <tr>\n",
              "      <th>1999-11-11</th>\n",
              "      <td>89.62</td>\n",
              "      <td>87.12</td>\n",
              "      <td>88.87</td>\n",
              "      <td>89.94</td>\n",
              "      <td>91.56</td>\n",
              "      <td>91.75</td>\n",
              "      <td>2.50</td>\n",
              "      <td>1</td>\n",
              "    </tr>\n",
              "    <tr>\n",
              "      <th>1999-11-12</th>\n",
              "      <td>89.19</td>\n",
              "      <td>89.62</td>\n",
              "      <td>87.12</td>\n",
              "      <td>88.87</td>\n",
              "      <td>89.94</td>\n",
              "      <td>91.56</td>\n",
              "      <td>-0.43</td>\n",
              "      <td>0</td>\n",
              "    </tr>\n",
              "    <tr>\n",
              "      <th>...</th>\n",
              "      <td>...</td>\n",
              "      <td>...</td>\n",
              "      <td>...</td>\n",
              "      <td>...</td>\n",
              "      <td>...</td>\n",
              "      <td>...</td>\n",
              "      <td>...</td>\n",
              "      <td>...</td>\n",
              "    </tr>\n",
              "    <tr>\n",
              "      <th>2025-02-26</th>\n",
              "      <td>399.73</td>\n",
              "      <td>397.90</td>\n",
              "      <td>404.00</td>\n",
              "      <td>408.21</td>\n",
              "      <td>416.13</td>\n",
              "      <td>414.77</td>\n",
              "      <td>1.83</td>\n",
              "      <td>1</td>\n",
              "    </tr>\n",
              "    <tr>\n",
              "      <th>2025-02-27</th>\n",
              "      <td>392.53</td>\n",
              "      <td>399.73</td>\n",
              "      <td>397.90</td>\n",
              "      <td>404.00</td>\n",
              "      <td>408.21</td>\n",
              "      <td>416.13</td>\n",
              "      <td>-7.20</td>\n",
              "      <td>0</td>\n",
              "    </tr>\n",
              "    <tr>\n",
              "      <th>2025-02-28</th>\n",
              "      <td>396.99</td>\n",
              "      <td>392.53</td>\n",
              "      <td>399.73</td>\n",
              "      <td>397.90</td>\n",
              "      <td>404.00</td>\n",
              "      <td>408.21</td>\n",
              "      <td>4.46</td>\n",
              "      <td>1</td>\n",
              "    </tr>\n",
              "    <tr>\n",
              "      <th>2025-03-03</th>\n",
              "      <td>388.49</td>\n",
              "      <td>396.99</td>\n",
              "      <td>392.53</td>\n",
              "      <td>399.73</td>\n",
              "      <td>397.90</td>\n",
              "      <td>404.00</td>\n",
              "      <td>-8.50</td>\n",
              "      <td>0</td>\n",
              "    </tr>\n",
              "    <tr>\n",
              "      <th>2025-03-04</th>\n",
              "      <td>388.61</td>\n",
              "      <td>388.49</td>\n",
              "      <td>396.99</td>\n",
              "      <td>392.53</td>\n",
              "      <td>399.73</td>\n",
              "      <td>397.90</td>\n",
              "      <td>0.12</td>\n",
              "      <td>1</td>\n",
              "    </tr>\n",
              "  </tbody>\n",
              "</table>\n",
              "<p>6368 rows × 8 columns</p>\n",
              "</div>\n",
              "    <div class=\"colab-df-buttons\">\n",
              "\n",
              "  <div class=\"colab-df-container\">\n",
              "    <button class=\"colab-df-convert\" onclick=\"convertToInteractive('df-8aed43df-6d96-4a91-baf3-6aa39efff9aa')\"\n",
              "            title=\"Convert this dataframe to an interactive table.\"\n",
              "            style=\"display:none;\">\n",
              "\n",
              "  <svg xmlns=\"http://www.w3.org/2000/svg\" height=\"24px\" viewBox=\"0 -960 960 960\">\n",
              "    <path d=\"M120-120v-720h720v720H120Zm60-500h600v-160H180v160Zm220 220h160v-160H400v160Zm0 220h160v-160H400v160ZM180-400h160v-160H180v160Zm440 0h160v-160H620v160ZM180-180h160v-160H180v160Zm440 0h160v-160H620v160Z\"/>\n",
              "  </svg>\n",
              "    </button>\n",
              "\n",
              "  <style>\n",
              "    .colab-df-container {\n",
              "      display:flex;\n",
              "      gap: 12px;\n",
              "    }\n",
              "\n",
              "    .colab-df-convert {\n",
              "      background-color: #E8F0FE;\n",
              "      border: none;\n",
              "      border-radius: 50%;\n",
              "      cursor: pointer;\n",
              "      display: none;\n",
              "      fill: #1967D2;\n",
              "      height: 32px;\n",
              "      padding: 0 0 0 0;\n",
              "      width: 32px;\n",
              "    }\n",
              "\n",
              "    .colab-df-convert:hover {\n",
              "      background-color: #E2EBFA;\n",
              "      box-shadow: 0px 1px 2px rgba(60, 64, 67, 0.3), 0px 1px 3px 1px rgba(60, 64, 67, 0.15);\n",
              "      fill: #174EA6;\n",
              "    }\n",
              "\n",
              "    .colab-df-buttons div {\n",
              "      margin-bottom: 4px;\n",
              "    }\n",
              "\n",
              "    [theme=dark] .colab-df-convert {\n",
              "      background-color: #3B4455;\n",
              "      fill: #D2E3FC;\n",
              "    }\n",
              "\n",
              "    [theme=dark] .colab-df-convert:hover {\n",
              "      background-color: #434B5C;\n",
              "      box-shadow: 0px 1px 3px 1px rgba(0, 0, 0, 0.15);\n",
              "      filter: drop-shadow(0px 1px 2px rgba(0, 0, 0, 0.3));\n",
              "      fill: #FFFFFF;\n",
              "    }\n",
              "  </style>\n",
              "\n",
              "    <script>\n",
              "      const buttonEl =\n",
              "        document.querySelector('#df-8aed43df-6d96-4a91-baf3-6aa39efff9aa button.colab-df-convert');\n",
              "      buttonEl.style.display =\n",
              "        google.colab.kernel.accessAllowed ? 'block' : 'none';\n",
              "\n",
              "      async function convertToInteractive(key) {\n",
              "        const element = document.querySelector('#df-8aed43df-6d96-4a91-baf3-6aa39efff9aa');\n",
              "        const dataTable =\n",
              "          await google.colab.kernel.invokeFunction('convertToInteractive',\n",
              "                                                    [key], {});\n",
              "        if (!dataTable) return;\n",
              "\n",
              "        const docLinkHtml = 'Like what you see? Visit the ' +\n",
              "          '<a target=\"_blank\" href=https://colab.research.google.com/notebooks/data_table.ipynb>data table notebook</a>'\n",
              "          + ' to learn more about interactive tables.';\n",
              "        element.innerHTML = '';\n",
              "        dataTable['output_type'] = 'display_data';\n",
              "        await google.colab.output.renderOutput(dataTable, element);\n",
              "        const docLink = document.createElement('div');\n",
              "        docLink.innerHTML = docLinkHtml;\n",
              "        element.appendChild(docLink);\n",
              "      }\n",
              "    </script>\n",
              "  </div>\n",
              "\n",
              "\n",
              "<div id=\"df-5171905d-9c9d-4576-9b81-f5fa62226698\">\n",
              "  <button class=\"colab-df-quickchart\" onclick=\"quickchart('df-5171905d-9c9d-4576-9b81-f5fa62226698')\"\n",
              "            title=\"Suggest charts\"\n",
              "            style=\"display:none;\">\n",
              "\n",
              "<svg xmlns=\"http://www.w3.org/2000/svg\" height=\"24px\"viewBox=\"0 0 24 24\"\n",
              "     width=\"24px\">\n",
              "    <g>\n",
              "        <path d=\"M19 3H5c-1.1 0-2 .9-2 2v14c0 1.1.9 2 2 2h14c1.1 0 2-.9 2-2V5c0-1.1-.9-2-2-2zM9 17H7v-7h2v7zm4 0h-2V7h2v10zm4 0h-2v-4h2v4z\"/>\n",
              "    </g>\n",
              "</svg>\n",
              "  </button>\n",
              "\n",
              "<style>\n",
              "  .colab-df-quickchart {\n",
              "      --bg-color: #E8F0FE;\n",
              "      --fill-color: #1967D2;\n",
              "      --hover-bg-color: #E2EBFA;\n",
              "      --hover-fill-color: #174EA6;\n",
              "      --disabled-fill-color: #AAA;\n",
              "      --disabled-bg-color: #DDD;\n",
              "  }\n",
              "\n",
              "  [theme=dark] .colab-df-quickchart {\n",
              "      --bg-color: #3B4455;\n",
              "      --fill-color: #D2E3FC;\n",
              "      --hover-bg-color: #434B5C;\n",
              "      --hover-fill-color: #FFFFFF;\n",
              "      --disabled-bg-color: #3B4455;\n",
              "      --disabled-fill-color: #666;\n",
              "  }\n",
              "\n",
              "  .colab-df-quickchart {\n",
              "    background-color: var(--bg-color);\n",
              "    border: none;\n",
              "    border-radius: 50%;\n",
              "    cursor: pointer;\n",
              "    display: none;\n",
              "    fill: var(--fill-color);\n",
              "    height: 32px;\n",
              "    padding: 0;\n",
              "    width: 32px;\n",
              "  }\n",
              "\n",
              "  .colab-df-quickchart:hover {\n",
              "    background-color: var(--hover-bg-color);\n",
              "    box-shadow: 0 1px 2px rgba(60, 64, 67, 0.3), 0 1px 3px 1px rgba(60, 64, 67, 0.15);\n",
              "    fill: var(--button-hover-fill-color);\n",
              "  }\n",
              "\n",
              "  .colab-df-quickchart-complete:disabled,\n",
              "  .colab-df-quickchart-complete:disabled:hover {\n",
              "    background-color: var(--disabled-bg-color);\n",
              "    fill: var(--disabled-fill-color);\n",
              "    box-shadow: none;\n",
              "  }\n",
              "\n",
              "  .colab-df-spinner {\n",
              "    border: 2px solid var(--fill-color);\n",
              "    border-color: transparent;\n",
              "    border-bottom-color: var(--fill-color);\n",
              "    animation:\n",
              "      spin 1s steps(1) infinite;\n",
              "  }\n",
              "\n",
              "  @keyframes spin {\n",
              "    0% {\n",
              "      border-color: transparent;\n",
              "      border-bottom-color: var(--fill-color);\n",
              "      border-left-color: var(--fill-color);\n",
              "    }\n",
              "    20% {\n",
              "      border-color: transparent;\n",
              "      border-left-color: var(--fill-color);\n",
              "      border-top-color: var(--fill-color);\n",
              "    }\n",
              "    30% {\n",
              "      border-color: transparent;\n",
              "      border-left-color: var(--fill-color);\n",
              "      border-top-color: var(--fill-color);\n",
              "      border-right-color: var(--fill-color);\n",
              "    }\n",
              "    40% {\n",
              "      border-color: transparent;\n",
              "      border-right-color: var(--fill-color);\n",
              "      border-top-color: var(--fill-color);\n",
              "    }\n",
              "    60% {\n",
              "      border-color: transparent;\n",
              "      border-right-color: var(--fill-color);\n",
              "    }\n",
              "    80% {\n",
              "      border-color: transparent;\n",
              "      border-right-color: var(--fill-color);\n",
              "      border-bottom-color: var(--fill-color);\n",
              "    }\n",
              "    90% {\n",
              "      border-color: transparent;\n",
              "      border-bottom-color: var(--fill-color);\n",
              "    }\n",
              "  }\n",
              "</style>\n",
              "\n",
              "  <script>\n",
              "    async function quickchart(key) {\n",
              "      const quickchartButtonEl =\n",
              "        document.querySelector('#' + key + ' button');\n",
              "      quickchartButtonEl.disabled = true;  // To prevent multiple clicks.\n",
              "      quickchartButtonEl.classList.add('colab-df-spinner');\n",
              "      try {\n",
              "        const charts = await google.colab.kernel.invokeFunction(\n",
              "            'suggestCharts', [key], {});\n",
              "      } catch (error) {\n",
              "        console.error('Error during call to suggestCharts:', error);\n",
              "      }\n",
              "      quickchartButtonEl.classList.remove('colab-df-spinner');\n",
              "      quickchartButtonEl.classList.add('colab-df-quickchart-complete');\n",
              "    }\n",
              "    (() => {\n",
              "      let quickchartButtonEl =\n",
              "        document.querySelector('#df-5171905d-9c9d-4576-9b81-f5fa62226698 button');\n",
              "      quickchartButtonEl.style.display =\n",
              "        google.colab.kernel.accessAllowed ? 'block' : 'none';\n",
              "    })();\n",
              "  </script>\n",
              "</div>\n",
              "\n",
              "  <div id=\"id_0112024c-b335-47db-b78a-299eb7ef4569\">\n",
              "    <style>\n",
              "      .colab-df-generate {\n",
              "        background-color: #E8F0FE;\n",
              "        border: none;\n",
              "        border-radius: 50%;\n",
              "        cursor: pointer;\n",
              "        display: none;\n",
              "        fill: #1967D2;\n",
              "        height: 32px;\n",
              "        padding: 0 0 0 0;\n",
              "        width: 32px;\n",
              "      }\n",
              "\n",
              "      .colab-df-generate:hover {\n",
              "        background-color: #E2EBFA;\n",
              "        box-shadow: 0px 1px 2px rgba(60, 64, 67, 0.3), 0px 1px 3px 1px rgba(60, 64, 67, 0.15);\n",
              "        fill: #174EA6;\n",
              "      }\n",
              "\n",
              "      [theme=dark] .colab-df-generate {\n",
              "        background-color: #3B4455;\n",
              "        fill: #D2E3FC;\n",
              "      }\n",
              "\n",
              "      [theme=dark] .colab-df-generate:hover {\n",
              "        background-color: #434B5C;\n",
              "        box-shadow: 0px 1px 3px 1px rgba(0, 0, 0, 0.15);\n",
              "        filter: drop-shadow(0px 1px 2px rgba(0, 0, 0, 0.3));\n",
              "        fill: #FFFFFF;\n",
              "      }\n",
              "    </style>\n",
              "    <button class=\"colab-df-generate\" onclick=\"generateWithVariable('df')\"\n",
              "            title=\"Generate code using this dataframe.\"\n",
              "            style=\"display:none;\">\n",
              "\n",
              "  <svg xmlns=\"http://www.w3.org/2000/svg\" height=\"24px\"viewBox=\"0 0 24 24\"\n",
              "       width=\"24px\">\n",
              "    <path d=\"M7,19H8.4L18.45,9,17,7.55,7,17.6ZM5,21V16.75L18.45,3.32a2,2,0,0,1,2.83,0l1.4,1.43a1.91,1.91,0,0,1,.58,1.4,1.91,1.91,0,0,1-.58,1.4L9.25,21ZM18.45,9,17,7.55Zm-12,3A5.31,5.31,0,0,0,4.9,8.1,5.31,5.31,0,0,0,1,6.5,5.31,5.31,0,0,0,4.9,4.9,5.31,5.31,0,0,0,6.5,1,5.31,5.31,0,0,0,8.1,4.9,5.31,5.31,0,0,0,12,6.5,5.46,5.46,0,0,0,6.5,12Z\"/>\n",
              "  </svg>\n",
              "    </button>\n",
              "    <script>\n",
              "      (() => {\n",
              "      const buttonEl =\n",
              "        document.querySelector('#id_0112024c-b335-47db-b78a-299eb7ef4569 button.colab-df-generate');\n",
              "      buttonEl.style.display =\n",
              "        google.colab.kernel.accessAllowed ? 'block' : 'none';\n",
              "\n",
              "      buttonEl.onclick = () => {\n",
              "        google.colab.notebook.generateWithVariable('df');\n",
              "      }\n",
              "      })();\n",
              "    </script>\n",
              "  </div>\n",
              "\n",
              "    </div>\n",
              "  </div>\n"
            ],
            "application/vnd.google.colaboratory.intrinsic+json": {
              "type": "dataframe",
              "variable_name": "df",
              "summary": "{\n  \"name\": \"df\",\n  \"rows\": 6368,\n  \"fields\": [\n    {\n      \"column\": \"Date\",\n      \"properties\": {\n        \"dtype\": \"date\",\n        \"min\": \"1999-11-08 00:00:00\",\n        \"max\": \"2025-03-04 00:00:00\",\n        \"num_unique_values\": 6368,\n        \"samples\": [\n          \"2023-08-30 00:00:00\",\n          \"2000-09-18 00:00:00\",\n          \"2009-12-14 00:00:00\"\n        ],\n        \"semantic_type\": \"\",\n        \"description\": \"\"\n      }\n    },\n    {\n      \"column\": \"Close\",\n      \"properties\": {\n        \"dtype\": \"number\",\n        \"std\": 110.6493543133991,\n        \"min\": 15.15,\n        \"max\": 467.56,\n        \"num_unique_values\": 4451,\n        \"samples\": [\n          26.23,\n          291.91,\n          49.44\n        ],\n        \"semantic_type\": \"\",\n        \"description\": \"\"\n      }\n    },\n    {\n      \"column\": \"L1\",\n      \"properties\": {\n        \"dtype\": \"number\",\n        \"std\": 110.5897325133626,\n        \"min\": 15.15,\n        \"max\": 467.56,\n        \"num_unique_values\": 4450,\n        \"samples\": [\n          26.23,\n          291.91,\n          49.44\n        ],\n        \"semantic_type\": \"\",\n        \"description\": \"\"\n      }\n    },\n    {\n      \"column\": \"L2\",\n      \"properties\": {\n        \"dtype\": \"number\",\n        \"std\": 110.53010640670612,\n        \"min\": 15.15,\n        \"max\": 467.56,\n        \"num_unique_values\": 4449,\n        \"samples\": [\n          26.0,\n          41.84,\n          30.53\n        ],\n        \"semantic_type\": \"\",\n        \"description\": \"\"\n      }\n    },\n    {\n      \"column\": \"L3\",\n      \"properties\": {\n        \"dtype\": \"number\",\n        \"std\": 110.46687143070736,\n        \"min\": 15.15,\n        \"max\": 467.56,\n        \"num_unique_values\": 4448,\n        \"samples\": [\n          181.4,\n          20.13,\n          27.69\n        ],\n        \"semantic_type\": \"\",\n        \"description\": \"\"\n      }\n    },\n    {\n      \"column\": \"L4\",\n      \"properties\": {\n        \"dtype\": \"number\",\n        \"std\": 110.40545380084663,\n        \"min\": 15.15,\n        \"max\": 467.56,\n        \"num_unique_values\": 4448,\n        \"samples\": [\n          181.81,\n          20.34,\n          27.85\n        ],\n        \"semantic_type\": \"\",\n        \"description\": \"\"\n      }\n    },\n    {\n      \"column\": \"L5\",\n      \"properties\": {\n        \"dtype\": \"number\",\n        \"std\": 110.34093335817094,\n        \"min\": 15.15,\n        \"max\": 467.56,\n        \"num_unique_values\": 4448,\n        \"samples\": [\n          181.57,\n          20.38,\n          27.68\n        ],\n        \"semantic_type\": \"\",\n        \"description\": \"\"\n      }\n    },\n    {\n      \"column\": \"Close_diff\",\n      \"properties\": {\n        \"dtype\": \"number\",\n        \"std\": 2.474814580011277,\n        \"min\": -27.339999999999975,\n        \"max\": 19.94999999999999,\n        \"num_unique_values\": 2343,\n        \"samples\": [\n          4.559999999999995,\n          -1.5199999999999996,\n          0.26000000000000156\n        ],\n        \"semantic_type\": \"\",\n        \"description\": \"\"\n      }\n    },\n    {\n      \"column\": \"Signal\",\n      \"properties\": {\n        \"dtype\": \"number\",\n        \"std\": 0,\n        \"min\": 0,\n        \"max\": 1,\n        \"num_unique_values\": 2,\n        \"samples\": [\n          1,\n          0\n        ],\n        \"semantic_type\": \"\",\n        \"description\": \"\"\n      }\n    }\n  ]\n}"
            }
          },
          "metadata": {},
          "execution_count": 157
        }
      ]
    },
    {
      "cell_type": "markdown",
      "source": [
        "**Visualizing Data**"
      ],
      "metadata": {
        "id": "Q-3Rm4qt6D1d"
      }
    },
    {
      "cell_type": "code",
      "source": [
        "temp = df.loc[\"2024-01-01\":\"2025-01-01\"].resample(\"W\").mean()\n",
        "sns.set_style(\"whitegrid\")\n",
        "plt.figure(figsize=(10, 5))\n",
        "sns.lineplot(x=temp.index, y=temp[\"Close\"], marker=None)\n",
        "plt.title(\"Time Series Plot\")\n",
        "plt.xlabel(\"Date\")\n",
        "plt.ylabel(\"Close\")\n",
        "plt.show()"
      ],
      "metadata": {
        "colab": {
          "base_uri": "https://localhost:8080/",
          "height": 487
        },
        "id": "rt58e9xny86S",
        "outputId": "5cf1ebf1-9906-4411-9e60-31a26a1bc617"
      },
      "execution_count": 102,
      "outputs": [
        {
          "output_type": "display_data",
          "data": {
            "text/plain": [
              "<Figure size 1000x500 with 1 Axes>"
            ],
            "image/png": "[encoded data removed]"
          },
          "metadata": {}
        }
      ]
    },
    {
      "cell_type": "markdown",
      "source": [
        "**Test Train Split**"
      ],
      "metadata": {
        "id": "4uMFO-FP7z4c"
      }
    },
    {
      "cell_type": "code",
      "source": [
        "split_ratio = 0.8\n",
        "split_index = int(len(df) * split_ratio)\n",
        "train = df.iloc[:split_index]\n",
        "test = df.iloc[split_index:]\n",
        "X_train = train.drop([\"Close\", \"Close_diff\"], axis=1)\n",
        "y_train = train[\"Close_diff\"]\n",
        "X_test = test.drop([\"Close\", \"Close_diff\"], axis=1)\n",
        "y_test = test[\"Close_diff\"]\n",
        "y_test2 = test[\"L1\"] + y_test\n",
        "X_train.shape, y_train.shape, X_test.shape, y_test.shape"
      ],
      "metadata": {
        "colab": {
          "base_uri": "https://localhost:8080/"
        },
        "id": "Jde4R9w06K06",
        "outputId": "ceb82eb7-e107-4ba8-fe89-2442943fe744"
      },
      "execution_count": 159,
      "outputs": [
        {
          "output_type": "execute_result",
          "data": {
            "text/plain": [
              "((5094, 6), (5094,), (1274, 6), (1274,))"
            ]
          },
          "metadata": {},
          "execution_count": 159
        }
      ]
    },
    {
      "cell_type": "markdown",
      "source": [
        "**Linear Regression**"
      ],
      "metadata": {
        "id": "kwcJ2iQtNIbI"
      }
    },
    {
      "cell_type": "code",
      "source": [
        "r = LinearRegression()\n",
        "lr.fit(X_train, y_train)\n",
        "y_pred = lr.predict(X_test)\n",
        "y_pred2 = test['L1'].values + y_pred_diff\n",
        "mse = mean_squared_error(y_test, y_pred_diff)\n",
        "r2 = r2_score(y_test, y_pred_diff)\n",
        "print(f\"Mean Squared Error: {mse}\")\n",
        "print(f\"R-squared: {r2}\")"
      ],
      "metadata": {
        "id": "d0SjRv44IzGT",
        "outputId": "e5df31cf-9613-451f-c1ea-bf61e763f154",
        "colab": {
          "base_uri": "https://localhost:8080/"
        }
      },
      "execution_count": 155,
      "outputs": [
        {
          "output_type": "stream",
          "name": "stdout",
          "text": [
            "Mean Squared Error: 25.442089774978733\n",
            "R-squared: 0.0014834554313372106\n"
          ]
        }
      ]
    },
    {
      "cell_type": "code",
      "source": [
        "plt.figure(figsize=(10, 5))\n",
        "\n",
        "plt.plot(y_test2[1200:].index, y_test2[1200:], label=\"y_test\", color=\"blue\")\n",
        "# plt.plot(y_train.index, y_train, label=\"Train\", color=\"red\")\n",
        "plt.plot(y_test2[1200:].index, y_pred2[1200:], label=\"y_pre\", color=\"green\")\n",
        "plt.xlabel(\"X-axis\")\n",
        "plt.ylabel(\"Y-axis\")\n",
        "plt.title(\"Analyzing Results\")\n",
        "plt.legend()\n",
        "plt.show()\n"
      ],
      "metadata": {
        "id": "Ex3srtuI84Jt",
        "outputId": "d546103d-7fc5-40d6-f8b3-0b2752c8b175",
        "colab": {
          "base_uri": "https://localhost:8080/",
          "height": 487
        }
      },
      "execution_count": 149,
      "outputs": [
        {
          "output_type": "display_data",
          "data": {
            "text/plain": [
              "<Figure size 1000x500 with 1 Axes>"
            ],
            "image/png": "[encoded data removed]"
          },
          "metadata": {}
        }
      ]
    },
    {
      "cell_type": "markdown",
      "source": [
        "**Logistic Regression**"
      ],
      "metadata": {
        "id": "cSJFhWMoNOe6"
      }
    },
    {
      "cell_type": "code",
      "source": [
        "X_train = train.drop([\"Close\", \"Close_diff\", \"Signal\"], axis=1)\n",
        "y_train = train[\"Signal\"]\n",
        "X_test = test.drop([\"Close\", \"Close_diff\", \"Signal\"], axis=1)\n",
        "y_test = test[\"Signal\"]\n",
        "logR = LogisticRegression()\n",
        "logR.fit(X_train, y_train)\n",
        "y_pred = logR.predict(X_test)\n",
        "report = classification_report(y_test, y_pred)\n",
        "print(report)"
      ],
      "metadata": {
        "id": "-NOF-X0sNRCs",
        "outputId": "c20ffaa4-baea-4f33-bf1b-8bca65b72fb2",
        "colab": {
          "base_uri": "https://localhost:8080/"
        }
      },
      "execution_count": 162,
      "outputs": [
        {
          "output_type": "stream",
          "name": "stdout",
          "text": [
            "              precision    recall  f1-score   support\n",
            "\n",
            "           0       0.51      0.03      0.06       607\n",
            "           1       0.52      0.97      0.68       667\n",
            "\n",
            "    accuracy                           0.52      1274\n",
            "   macro avg       0.52      0.50      0.37      1274\n",
            "weighted avg       0.52      0.52      0.38      1274\n",
            "\n"
          ]
        }
      ]
    }
  ],
  "metadata": {
    "colab": {
      "provenance": [],
      "include_colab_link": true
    },
    "language_info": {
      "name": "python"
    },
    "kernelspec": {
      "name": "python3",
      "display_name": "Python 3"
    }
  },
  "nbformat": 4,
  "nbformat_minor": 0
}