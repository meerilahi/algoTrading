{
  "cells": [
    {
      "cell_type": "code",
      "source": [
        "API_KEY = \"XM0ZE0M05HEDFVTP\""
      ],
      "metadata": {
        "id": "Ws8GqSslafR0"
      },
      "execution_count": 7,
      "outputs": []
    },
    {
      "cell_type": "code",
      "source": [
        "!pip install alpha_vantage"
      ],
      "metadata": {
        "id": "c4XOCOk4aUp9",
        "outputId": "2db2d9ad-ac00-4a1f-d6d9-0f026f5cc3c2",
        "colab": {
          "base_uri": "https://localhost:8080/"
        }
      },
      "execution_count": 4,
      "outputs": [
        {
          "output_type": "stream",
          "name": "stdout",
          "text": [
            "Collecting alpha_vantage\n",
            "  Downloading alpha_vantage-3.0.0-py3-none-any.whl.metadata (12 kB)\n",
            "Requirement already satisfied: aiohttp in /usr/local/lib/python3.11/dist-packages (from alpha_vantage) (3.11.13)\n",
            "Requirement already satisfied: requests in /usr/local/lib/python3.11/dist-packages (from alpha_vantage) (2.32.3)\n",
            "Requirement already satisfied: aiohappyeyeballs>=2.3.0 in /usr/local/lib/python3.11/dist-packages (from aiohttp->alpha_vantage) (2.4.6)\n",
            "Requirement already satisfied: aiosignal>=1.1.2 in /usr/local/lib/python3.11/dist-packages (from aiohttp->alpha_vantage) (1.3.2)\n",
            "Requirement already satisfied: attrs>=17.3.0 in /usr/local/lib/python3.11/dist-packages (from aiohttp->alpha_vantage) (25.1.0)\n",
            "Requirement already satisfied: frozenlist>=1.1.1 in /usr/local/lib/python3.11/dist-packages (from aiohttp->alpha_vantage) (1.5.0)\n",
            "Requirement already satisfied: multidict<7.0,>=4.5 in /usr/local/lib/python3.11/dist-packages (from aiohttp->alpha_vantage) (6.1.0)\n",
            "Requirement already satisfied: propcache>=0.2.0 in /usr/local/lib/python3.11/dist-packages (from aiohttp->alpha_vantage) (0.3.0)\n",
            "Requirement already satisfied: yarl<2.0,>=1.17.0 in /usr/local/lib/python3.11/dist-packages (from aiohttp->alpha_vantage) (1.18.3)\n",
            "Requirement already satisfied: charset-normalizer<4,>=2 in /usr/local/lib/python3.11/dist-packages (from requests->alpha_vantage) (3.4.1)\n",
            "Requirement already satisfied: idna<4,>=2.5 in /usr/local/lib/python3.11/dist-packages (from requests->alpha_vantage) (3.10)\n",
            "Requirement already satisfied: urllib3<3,>=1.21.1 in /usr/local/lib/python3.11/dist-packages (from requests->alpha_vantage) (2.3.0)\n",
            "Requirement already satisfied: certifi>=2017.4.17 in /usr/local/lib/python3.11/dist-packages (from requests->alpha_vantage) (2025.1.31)\n",
            "Downloading alpha_vantage-3.0.0-py3-none-any.whl (35 kB)\n",
            "Installing collected packages: alpha_vantage\n",
            "Successfully installed alpha_vantage-3.0.0\n"
          ]
        }
      ]
    },
    {
      "cell_type": "code",
      "source": [
        "from alpha_vantage.timeseries import TimeSeries\n",
        "import pandas as pd"
      ],
      "metadata": {
        "id": "nhrC-ZM8aGRl"
      },
      "execution_count": 20,
      "outputs": []
    },
    {
      "cell_type": "code",
      "source": [
        "ts = TimeSeries(key = API_KEY, output_format = 'pandas')"
      ],
      "metadata": {
        "id": "DbQ3poOLa6m9"
      },
      "execution_count": 24,
      "outputs": []
    },
    {
      "cell_type": "code",
      "source": [
        "data = ts.get_daily(symbol = 'MSFT', outputsize = 'full')"
      ],
      "metadata": {
        "id": "K6nR4WMDbG1k"
      },
      "execution_count": 14,
      "outputs": []
    },
    {
      "cell_type": "code",
      "source": [
        "data = ts.get_intraday(symbol = 'MSFT', interval = '5min', outputsize = 'full')"
      ],
      "metadata": {
        "id": "Q2sDVorBevTV"
      },
      "execution_count": 25,
      "outputs": []
    },
    {
      "cell_type": "code",
      "source": [
        "data"
      ],
      "metadata": {
        "id": "Kvk15d9LfY-X",
        "outputId": "f04b7480-2e10-4411-9e01-3b269bcf416a",
        "colab": {
          "base_uri": "https://localhost:8080/"
        }
      },
      "execution_count": 26,
      "outputs": [
        {
          "output_type": "execute_result",
          "data": {
            "text/plain": [
              "(                      1. open   2. high    3. low  4. close  5. volume\n",
              " date                                                                  \n",
              " 2025-02-28 19:55:00  396.6450  396.7900  396.3000  396.3000     2394.0\n",
              " 2025-02-28 19:50:00  396.6500  396.8000  396.5000  396.6450      874.0\n",
              " 2025-02-28 19:45:00  396.8000  396.8300  396.5000  396.6000      318.0\n",
              " 2025-02-28 19:40:00  396.6650  396.8300  396.5082  396.6700      405.0\n",
              " 2025-02-28 19:35:00  396.5141  396.8988  396.5000  396.7000      488.0\n",
              " ...                       ...       ...       ...       ...        ...\n",
              " 2025-01-30 04:20:00  425.4614  425.6310  423.6750  424.6330    14872.0\n",
              " 2025-01-30 04:15:00  425.8207  425.8506  425.4514  425.4714     6501.0\n",
              " 2025-01-30 04:10:00  426.6690  426.6690  425.3217  425.7408     7700.0\n",
              " 2025-01-30 04:05:00  425.5312  426.8486  424.1640  426.4295    39934.0\n",
              " 2025-01-30 04:00:00  425.0023  426.1500  424.0941  425.6011    44309.0\n",
              " \n",
              " [4032 rows x 5 columns],\n",
              " {'1. Information': 'Intraday (5min) open, high, low, close prices and volume',\n",
              "  '2. Symbol': 'MSFT',\n",
              "  '3. Last Refreshed': '2025-02-28 19:55:00',\n",
              "  '4. Interval': '5min',\n",
              "  '5. Output Size': 'Full size',\n",
              "  '6. Time Zone': 'US/Eastern'})"
            ]
          },
          "metadata": {},
          "execution_count": 26
        }
      ]
    }
  ],
  "metadata": {
    "colab": {
      "provenance": []
    },
    "language_info": {
      "name": "python"
    },
    "kernelspec": {
      "name": "python3",
      "display_name": "Python 3"
    }
  },
  "nbformat": 4,
  "nbformat_minor": 0
}