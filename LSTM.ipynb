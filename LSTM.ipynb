{
  "nbformat": 4,
  "nbformat_minor": 0,
  "metadata": {
    "colab": {
      "provenance": [],
      "authorship_tag": "ABX9TyMznulOWM40CSDFoc3MMeuF",
      "include_colab_link": true
    },
    "kernelspec": {
      "name": "python3",
      "display_name": "Python 3"
    },
    "language_info": {
      "name": "python"
    }
  },
  "cells": [
    {
      "cell_type": "markdown",
      "metadata": {
        "id": "view-in-github",
        "colab_type": "text"
      },
      "source": [
        "<a href=\"https://colab.research.google.com/github/meerilahi/algoTrading/blob/main/LSTM.ipynb\" target=\"_parent\"><img src=\"https://colab.research.google.com/assets/colab-badge.svg\" alt=\"Open In Colab\"/></a>"
      ]
    },
    {
      "cell_type": "code",
      "execution_count": null,
      "metadata": {
        "id": "jqzEi3_LQ1uW"
      },
      "outputs": [],
      "source": [
        "!pip install alpha_vantage"
      ]
    },
    {
      "cell_type": "code",
      "source": [
        "from alpha_vantage.timeseries import TimeSeries\n",
        "import pandas as pd\n",
        "import numpy as np\n",
        "import matplotlib.pyplot as plt\n",
        "import seaborn as sns\n",
        "from sklearn.metrics import mean_squared_error, mean_absolute_error\n",
        "from sklearn.preprocessing import MinMaxScaler\n",
        "import tensorflow as tf\n",
        "%matplotlib inline"
      ],
      "metadata": {
        "id": "VHaXCF2NJxev"
      },
      "execution_count": 108,
      "outputs": []
    },
    {
      "cell_type": "code",
      "source": [
        "API_KEY = \"XM0ZE0M05HEDFVTP\"\n",
        "ts = TimeSeries(key = API_KEY, output_format = 'pandas')\n",
        "data = ts.get_daily(symbol = 'MSFT', outputsize = 'full')[0]"
      ],
      "metadata": {
        "id": "LRmcSZwPKADq"
      },
      "execution_count": 121,
      "outputs": []
    },
    {
      "cell_type": "code",
      "source": [
        "df = data[['4. close']]\n",
        "df = df.rename(columns = {'4. close':'target'})\n",
        "df = df[::-1]\n",
        "for i in range(1,31):\n",
        "    df[f'lag_{i}'] = df['target'].shift(i)\n",
        "df = df.dropna()\n",
        "df = df.iloc[::,::-1]"
      ],
      "metadata": {
        "id": "6thGRhX1KN4S"
      },
      "execution_count": null,
      "outputs": []
    },
    {
      "cell_type": "code",
      "source": [
        "mean_squared_error(df['lag_1'], df['target'])\n",
        "mean_absolute_error(df['lag_1'], df['target'])"
      ],
      "metadata": {
        "id": "f2Trqaf_aRFr",
        "outputId": "afefbcbe-b3b4-49c4-e508-6d426f4c1f35",
        "colab": {
          "base_uri": "https://localhost:8080/"
        }
      },
      "execution_count": 131,
      "outputs": [
        {
          "output_type": "execute_result",
          "data": {
            "text/plain": [
              "1.257317556290348"
            ]
          },
          "metadata": {},
          "execution_count": 131
        }
      ]
    },
    {
      "cell_type": "code",
      "source": [
        "X = df.iloc[:,0:-1].to_numpy()\n",
        "X = X.reshape(X.shape[0], X.shape[1], 1)\n",
        "y = df.iloc[:,-1].to_numpy()"
      ],
      "metadata": {
        "id": "g3Z0fsL0mY3M"
      },
      "execution_count": 137,
      "outputs": []
    },
    {
      "cell_type": "code",
      "source": [
        "split_index = int(len(X) * 0.8)\n",
        "X_train, y_train = X[:split_index], y[:split_index]\n",
        "X_test, y_test = X[split_index:], y[split_index:]\n",
        "train_ds = tf.data.Dataset.from_tensor_slices((X_train, y_train))\n",
        "test_ds = tf.data.Dataset.from_tensor_slices((X_test, y_test))"
      ],
      "metadata": {
        "id": "UZPr-K9BSenK"
      },
      "execution_count": 138,
      "outputs": []
    },
    {
      "cell_type": "code",
      "source": [
        "model = tf.keras.Sequential([\n",
        "    tf.keras.layers.LSTM(64, input_shape = (30, 1)),\n",
        "    tf.keras.layers.Dense(32, activation = 'relu'),\n",
        "    tf.keras.layers.Dense(1)\n",
        "])\n",
        "model.compile(optimizer='adam',loss='mse', metrics=['mean_absolute_error'])\n",
        "model.fit(train_ds.batch(32), epochs = 23,validation_data = test_ds.batch(32))"
      ],
      "metadata": {
        "id": "Tns9RbPwTOni",
        "outputId": "4c7627e6-a214-45ea-ff54-fff1e51fd8c5",
        "colab": {
          "base_uri": "https://localhost:8080/"
        }
      },
      "execution_count": 142,
      "outputs": [
        {
          "output_type": "stream",
          "name": "stderr",
          "text": [
            "/usr/local/lib/python3.11/dist-packages/keras/src/layers/rnn/rnn.py:200: UserWarning: Do not pass an `input_shape`/`input_dim` argument to a layer. When using Sequential models, prefer using an `Input(shape)` object as the first layer in the model instead.\n",
            "  super().__init__(**kwargs)\n"
          ]
        }
      ]
    },
    {
      "cell_type": "code",
      "source": [
        "model2 = tf.keras.models.clone_model(model)\n",
        "model2.compile(optimizer='adam',loss='mse', metrics=['mean_absolute_error'])"
      ],
      "metadata": {
        "id": "I9IJWcwlwWnN"
      },
      "execution_count": 158,
      "outputs": []
    },
    {
      "cell_type": "code",
      "source": [
        "y_pred = []\n",
        "for i in range(len(X_test)):\n",
        "    print('Example' + str(i))\n",
        "    pred = model2.predict(X_test[i].reshape(1,30,1))\n",
        "    y_pred.append()\n",
        "    print('y_pred' + str(i))\n",
        "    model2.fit(X_test[i].reshape(1,30,1), y_test[i].reshape(1,1), epochs = 1)"
      ],
      "metadata": {
        "id": "mh6a17UScHmN"
      },
      "execution_count": null,
      "outputs": []
    },
    {
      "cell_type": "code",
      "source": [
        "y_pred = np.array(y_pred)"
      ],
      "metadata": {
        "id": "rKr8cWJ9y0Ft"
      },
      "execution_count": 160,
      "outputs": []
    },
    {
      "cell_type": "code",
      "source": [
        "y_pred2 = y_pred.reshape(y_pred.shape[0])"
      ],
      "metadata": {
        "id": "lF-LEMaoy3ut"
      },
      "execution_count": 167,
      "outputs": []
    },
    {
      "cell_type": "code",
      "source": [
        "y_pred2"
      ],
      "metadata": {
        "id": "5qf1Q7GRzxId",
        "outputId": "3c5c3d19-82cf-4229-d27e-f3407df62a95",
        "colab": {
          "base_uri": "https://localhost:8080/"
        }
      },
      "execution_count": 168,
      "outputs": [
        {
          "output_type": "execute_result",
          "data": {
            "text/plain": [
              "array([-4.1494060e-01, -2.8847381e-01, -1.5797754e-01, ...,\n",
              "        4.1940527e+02,  4.1861664e+02,  4.1779221e+02], dtype=float32)"
            ]
          },
          "metadata": {},
          "execution_count": 168
        }
      ]
    },
    {
      "cell_type": "code",
      "source": [
        "y_pred[10], y_test[9], y_test[10], y_test[11]"
      ],
      "metadata": {
        "id": "U-yTLeXeyiH1",
        "outputId": "618759d3-2768-4701-8703-775570c9ec0e",
        "colab": {
          "base_uri": "https://localhost:8080/"
        }
      },
      "execution_count": 171,
      "outputs": [
        {
          "output_type": "execute_result",
          "data": {
            "text/plain": [
              "(array([[0.67970127]], dtype=float32), 150.62, 160.92, 153.63)"
            ]
          },
          "metadata": {},
          "execution_count": 171
        }
      ]
    },
    {
      "cell_type": "code",
      "source": [
        "test[\"Predicted_Close\"] = y_pred\n",
        "test[\"Signal\"] = test[\"Predicted_Close\"] > test[\"Close\"]  # 1 = Buy, 0 = Sell\n"
      ],
      "metadata": {
        "id": "IbYTuAcIyaPO"
      },
      "execution_count": null,
      "outputs": []
    }
  ]
}